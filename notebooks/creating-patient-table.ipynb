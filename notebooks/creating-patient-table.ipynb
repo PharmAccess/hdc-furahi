{
 "cells": [
  {
   "cell_type": "code",
   "execution_count": 1,
   "metadata": {},
   "outputs": [],
   "source": [
    "from pathlib import Path\n",
    "import duckdb\n",
    "\n",
    "\n",
    "SYNTHEA = Path(\"./input-data/synthea/\")\n",
    "SYNTHEA_PARQUET = Path(\"./output/synthea-parquet/\")\n",
    "SYNTHEA_DB = Path(\"./output/synthea.duckdb\")"
   ]
  },
  {
   "cell_type": "code",
   "execution_count": 3,
   "metadata": {},
   "outputs": [],
   "source": [
    "# ingest synthea data, storing intermedia parquets as well\n",
    "with duckdb.connect((SYNTHEA_DB).as_posix()) as conn:\n",
    "    for file_ in SYNTHEA.glob(\"*.ndjson\"):\n",
    "        duckdb.read_json(file_.as_posix()).to_parquet((SYNTHEA_PARQUET / f\"{file_.stem}.parquet\").as_posix())\n",
    "    for file_ in SYNTHEA_PARQUET.glob(\"*.parquet\"):\n",
    "        stmt = f\"\"\"\n",
    "            DROP TABLE IF EXISTS {file_.stem};\n",
    "            CREATE TABLE {file_.stem} AS SELECT * FROM '{file_.as_posix()}'\n",
    "            \"\"\"\n",
    "        conn.execute(stmt)"
   ]
  },
  {
   "cell_type": "code",
   "execution_count": 2,
   "metadata": {},
   "outputs": [],
   "source": [
    "# using Relational API as it incremental query building\n",
    "# https://duckdb.org/docs/api/python/relational_api\n",
    "# read-only for analytics\n",
    "conn = duckdb.connect(database=SYNTHEA_DB.as_posix(), read_only=True)"
   ]
  },
  {
   "attachments": {},
   "cell_type": "markdown",
   "metadata": {},
   "source": [
    "## Unnesting"
   ]
  },
  {
   "cell_type": "code",
   "execution_count": null,
   "metadata": {},
   "outputs": [],
   "source": [
    "# you can't call UNNEST recursively\n",
    "# this will throw InvalidInputException\n",
    "# conn.sql(\"\"\"\n",
    "#     SELECT UNNEST(UNNEST([[1,2,3],[4,5]]))\n",
    "# \"\"\")\n",
    "\n",
    "# you need to do this\n",
    "conn.sql(\"\"\"\n",
    "    WITH temp AS (SELECT UNNEST([[1,2,3],[4,5]]) AS a)\n",
    "    SELECT UNNEST(a) FROM temp\n",
    "\"\"\")"
   ]
  },
  {
   "cell_type": "code",
   "execution_count": null,
   "metadata": {},
   "outputs": [],
   "source": [
    "# or this\n",
    "conn.sql(\"\"\"\n",
    "    SELECT UNNEST(t)\n",
    "    FROM (\n",
    "        SELECT UNNEST([[1,2,3],[4,5]]) as t\n",
    "        )\n",
    "\"\"\")"
   ]
  },
  {
   "attachments": {},
   "cell_type": "markdown",
   "metadata": {},
   "source": [
    "## Creating flat table of all encounters per patient\n",
    "First step in reconstructing the patient journey, is to create a list of all encounters and procedures per patient in long format. Using duckdb, this involves multiple CTEs to UNNEST arrays and access STRUCTS. Below a first shot, it feels very clunky. Surely there must be a better way."
   ]
  },
  {
   "cell_type": "code",
   "execution_count": 33,
   "metadata": {},
   "outputs": [
    {
     "data": {
      "text/plain": [
       "┌───────┬─────────────────┬───────────────────────────────────────────────────────────┬─────────┬────────────┬─────────┐\n",
       "│  cid  │      name       │                           type                            │ notnull │ dflt_value │   pk    │\n",
       "│ int32 │     varchar     │                          varchar                          │ boolean │  varchar   │ boolean │\n",
       "├───────┼─────────────────┼───────────────────────────────────────────────────────────┼─────────┼────────────┼─────────┤\n",
       "│     0 │ resourceType    │ VARCHAR                                                   │ false   │ NULL       │ false   │\n",
       "│     1 │ id              │ UUID                                                      │ false   │ NULL       │ false   │\n",
       "│     2 │ meta            │ STRUCT(profile VARCHAR[])                                 │ false   │ NULL       │ false   │\n",
       "│     3 │ identifier      │ STRUCT(\"use\" VARCHAR, \"system\" VARCHAR, \"value\" UUID)[]   │ false   │ NULL       │ false   │\n",
       "│     4 │ status          │ VARCHAR                                                   │ false   │ NULL       │ false   │\n",
       "│     5 │ class           │ STRUCT(\"system\" VARCHAR, code VARCHAR)                    │ false   │ NULL       │ false   │\n",
       "│     6 │ type            │ STRUCT(coding STRUCT(\"system\" VARCHAR, code BIGINT, dis…  │ false   │ NULL       │ false   │\n",
       "│     7 │ subject         │ STRUCT(reference VARCHAR, display VARCHAR)                │ false   │ NULL       │ false   │\n",
       "│     8 │ participant     │ STRUCT(\"type\" STRUCT(coding STRUCT(\"system\" VARCHAR, co…  │ false   │ NULL       │ false   │\n",
       "│     9 │ period          │ STRUCT(\"start\" VARCHAR, \"end\" VARCHAR)                    │ false   │ NULL       │ false   │\n",
       "│    10 │ location        │ STRUCT(\"location\" STRUCT(reference VARCHAR, display VAR…  │ false   │ NULL       │ false   │\n",
       "│    11 │ serviceProvider │ STRUCT(reference VARCHAR, display VARCHAR)                │ false   │ NULL       │ false   │\n",
       "├───────┴─────────────────┴───────────────────────────────────────────────────────────┴─────────┴────────────┴─────────┤\n",
       "│ 12 rows                                                                                                    6 columns │\n",
       "└──────────────────────────────────────────────────────────────────────────────────────────────────────────────────────┘"
      ]
     },
     "execution_count": 33,
     "metadata": {},
     "output_type": "execute_result"
    }
   ],
   "source": [
    "conn.sql(\"\"\"\n",
    "    PRAGMA table_info('Encounter')\n",
    "\"\"\")"
   ]
  },
  {
   "cell_type": "code",
   "execution_count": 42,
   "metadata": {},
   "outputs": [
    {
     "data": {
      "text/plain": [
       "┌──────────────────────┬────────────┬───┬──────────────────────┬─────────────────────┬─────────────────────┐\n",
       "│      patientId       │ birthDate  │ … │       display        │    period_start     │     period_end      │\n",
       "│       varchar        │    date    │   │       varchar        │      timestamp      │      timestamp      │\n",
       "├──────────────────────┼────────────┼───┼──────────────────────┼─────────────────────┼─────────────────────┤\n",
       "│ 093c96cc-54ef-9087…  │ 1969-11-21 │ … │ General examinatio…  │ 2013-12-06 17:01:35 │ 2013-12-06 17:16:35 │\n",
       "│ cffc0afe-15f1-9dde…  │ 1969-11-09 │ … │ General examinatio…  │ 2013-11-24 22:13:38 │ 2013-11-24 22:28:38 │\n",
       "│ c9c90c6b-d258-b628…  │ 2010-08-05 │ … │ Well child visit (…  │ 2013-07-11 08:10:17 │ 2013-07-11 08:25:17 │\n",
       "│ 94f5dc9e-c391-a203…  │ 1987-09-17 │ … │ General examinatio…  │ 2015-11-26 07:53:42 │ 2015-11-26 08:08:42 │\n",
       "│ bb589a13-5469-624f…  │ 1965-08-18 │ … │ General examinatio…  │ 2013-09-11 09:56:50 │ 2013-09-11 10:11:50 │\n",
       "│ 05efa25e-2f63-c2a2…  │ 1957-11-30 │ … │ General examinatio…  │ 2014-01-04 01:34:33 │ 2014-01-04 01:49:33 │\n",
       "│ 7b4156a0-ceae-a631…  │ 1992-09-04 │ … │ General examinatio…  │ 2014-11-07 21:08:13 │ 2014-11-07 21:23:13 │\n",
       "│ 093c96cc-54ef-9087…  │ 1969-11-21 │ … │ General examinatio…  │ 2015-12-11 17:01:35 │ 2015-12-11 17:16:35 │\n",
       "│ 94f5dc9e-c391-a203…  │ 1987-09-17 │ … │ General examinatio…  │ 2018-11-29 07:53:42 │ 2018-11-29 08:08:42 │\n",
       "│ c9c90c6b-d258-b628…  │ 2010-08-05 │ … │ Well child visit (…  │ 2014-01-09 08:10:17 │ 2014-01-09 08:25:17 │\n",
       "│          ·           │     ·      │ · │          ·           │          ·          │          ·          │\n",
       "│          ·           │     ·      │ · │          ·           │          ·          │          ·          │\n",
       "│          ·           │     ·      │ · │          ·           │          ·          │          ·          │\n",
       "│ 07f3797e-0eda-495e…  │ 1917-04-16 │ … │ General examinatio…  │ 2023-02-27 13:43:31 │ 2023-02-27 13:58:31 │\n",
       "│ dd612323-3c1f-6c13…  │ 2021-03-20 │ … │ Well child visit (…  │ 2021-03-19 23:45:07 │ 2021-03-20 00:00:07 │\n",
       "│ dd612323-3c1f-6c13…  │ 2021-03-20 │ … │ Well child visit (…  │ 2021-04-23 23:45:07 │ 2021-04-24 00:00:07 │\n",
       "│ dd612323-3c1f-6c13…  │ 2021-03-20 │ … │ Well child visit (…  │ 2021-06-25 23:45:07 │ 2021-06-26 00:00:07 │\n",
       "│ dd612323-3c1f-6c13…  │ 2021-03-20 │ … │ Well child visit (…  │ 2021-08-27 23:45:07 │ 2021-08-28 00:00:07 │\n",
       "│ dd612323-3c1f-6c13…  │ 2021-03-20 │ … │ Well child visit (…  │ 2021-11-26 23:45:07 │ 2021-11-27 00:00:07 │\n",
       "│ dd612323-3c1f-6c13…  │ 2021-03-20 │ … │ Well child visit (…  │ 2022-02-25 23:45:07 │ 2022-02-26 00:00:07 │\n",
       "│ dd612323-3c1f-6c13…  │ 2021-03-20 │ … │ Well child visit (…  │ 2022-05-27 23:45:07 │ 2022-05-28 00:00:07 │\n",
       "│ dd612323-3c1f-6c13…  │ 2021-03-20 │ … │ Well child visit (…  │ 2022-08-26 23:45:07 │ 2022-08-27 00:00:07 │\n",
       "│ dd612323-3c1f-6c13…  │ 2021-03-20 │ … │ Well child visit (…  │ 2023-02-24 23:45:07 │ 2023-02-25 00:00:07 │\n",
       "├──────────────────────┴────────────┴───┴──────────────────────┴─────────────────────┴─────────────────────┤\n",
       "│ 923 rows (20 shown)                                                                  9 columns (5 shown) │\n",
       "└──────────────────────────────────────────────────────────────────────────────────────────────────────────┘"
      ]
     },
     "execution_count": 42,
     "metadata": {},
     "output_type": "execute_result"
    }
   ],
   "source": [
    "conn.sql(\"\"\"\n",
    "    WITH temp1 AS (\n",
    "        SELECT\n",
    "            id,\n",
    "            struct_extract(UNNEST(type), 'coding') AS coding\n",
    "        FROM Encounter\n",
    "    ),\n",
    "    temp2 AS (\n",
    "        SELECT\n",
    "            id,\n",
    "            UNNEST(temp1.coding) AS coding\n",
    "        FROM temp1\n",
    "    ),\n",
    "    temp3 AS (\n",
    "        SELECT\n",
    "            id AS encounterId,\n",
    "            coding.*\n",
    "        FROM temp2\n",
    "    )\n",
    "    SELECT\n",
    "        regexp_split_to_array(e.subject.reference, '/')[-1] AS patientId,\n",
    "        p.birthDate,\n",
    "        regexp_split_to_array(serviceProvider.reference, '\\|')[-1] AS organizationId,\n",
    "        temp3.*,\n",
    "        CAST(e.period.start AS TIMESTAMP) AS period_start,\n",
    "        CAST(e.period.end AS TIMESTAMP) AS period_end,\n",
    "\n",
    "    FROM temp3\n",
    "    LEFT JOIN Encounter e ON e.id = temp3.encounterId\n",
    "    LEFT JOIN Patient p ON p.id = regexp_split_to_array(e.subject.reference, '/')[-1]\n",
    "\n",
    "\"\"\")"
   ]
  },
  {
   "cell_type": "code",
   "execution_count": 4,
   "metadata": {},
   "outputs": [],
   "source": [
    "conn.close()\n"
   ]
  }
 ],
 "metadata": {
  "kernelspec": {
   "display_name": ".venv",
   "language": "python",
   "name": "python3"
  },
  "language_info": {
   "codemirror_mode": {
    "name": "ipython",
    "version": 3
   },
   "file_extension": ".py",
   "mimetype": "text/x-python",
   "name": "python",
   "nbconvert_exporter": "python",
   "pygments_lexer": "ipython3",
   "version": "3.9.13"
  },
  "orig_nbformat": 4
 },
 "nbformat": 4,
 "nbformat_minor": 2
}
