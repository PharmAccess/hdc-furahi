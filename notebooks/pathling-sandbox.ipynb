{
 "cells": [
  {
   "cell_type": "code",
   "execution_count": 1,
   "metadata": {},
   "outputs": [
    {
     "name": "stdout",
     "output_type": "stream",
     "text": [
      ":: loading settings :: url = jar:file:/home/vscode/.local/lib/python3.11/site-packages/pyspark/jars/ivy-2.5.1.jar!/org/apache/ivy/core/settings/ivysettings.xml\n"
     ]
    },
    {
     "name": "stderr",
     "output_type": "stream",
     "text": [
      "Ivy Default Cache set to: /home/vscode/.ivy2/cache\n",
      "The jars for the packages stored in: /home/vscode/.ivy2/jars\n",
      "au.csiro.pathling#library-runtime added as a dependency\n",
      "io.delta#delta-core_2.12 added as a dependency\n",
      ":: resolving dependencies :: org.apache.spark#spark-submit-parent-79ff368b-be05-47b4-9697-26f06ef6dd11;1.0\n",
      "\tconfs: [default]\n",
      "\tfound au.csiro.pathling#library-runtime;6.4.2 in central\n",
      "\tfound io.delta#delta-core_2.12;2.4.0 in central\n",
      "\tfound io.delta#delta-storage;2.4.0 in central\n",
      "\tfound org.antlr#antlr4-runtime;4.9.3 in central\n",
      "downloading https://repo1.maven.org/maven2/au/csiro/pathling/library-runtime/6.4.2/library-runtime-6.4.2.jar ...\n",
      "\t[SUCCESSFUL ] au.csiro.pathling#library-runtime;6.4.2!library-runtime.jar (3504ms)\n",
      "downloading https://repo1.maven.org/maven2/io/delta/delta-core_2.12/2.4.0/delta-core_2.12-2.4.0.jar ...\n",
      "\t[SUCCESSFUL ] io.delta#delta-core_2.12;2.4.0!delta-core_2.12.jar (104ms)\n",
      "downloading https://repo1.maven.org/maven2/io/delta/delta-storage/2.4.0/delta-storage-2.4.0.jar ...\n",
      "\t[SUCCESSFUL ] io.delta#delta-storage;2.4.0!delta-storage.jar (49ms)\n",
      "downloading https://repo1.maven.org/maven2/org/antlr/antlr4-runtime/4.9.3/antlr4-runtime-4.9.3.jar ...\n",
      "\t[SUCCESSFUL ] org.antlr#antlr4-runtime;4.9.3!antlr4-runtime.jar (55ms)\n",
      ":: resolution report :: resolve 14415ms :: artifacts dl 3716ms\n",
      "\t:: modules in use:\n",
      "\tau.csiro.pathling#library-runtime;6.4.2 from central in [default]\n",
      "\tio.delta#delta-core_2.12;2.4.0 from central in [default]\n",
      "\tio.delta#delta-storage;2.4.0 from central in [default]\n",
      "\torg.antlr#antlr4-runtime;4.9.3 from central in [default]\n",
      "\t---------------------------------------------------------------------\n",
      "\t|                  |            modules            ||   artifacts   |\n",
      "\t|       conf       | number| search|dwnlded|evicted|| number|dwnlded|\n",
      "\t---------------------------------------------------------------------\n",
      "\t|      default     |   4   |   4   |   4   |   0   ||   4   |   4   |\n",
      "\t---------------------------------------------------------------------\n",
      ":: retrieving :: org.apache.spark#spark-submit-parent-79ff368b-be05-47b4-9697-26f06ef6dd11\n",
      "\tconfs: [default]\n",
      "\t4 artifacts copied, 0 already retrieved (61375kB/48ms)\n"
     ]
    },
    {
     "name": "stdout",
     "output_type": "stream",
     "text": [
      "24/04/08 09:24:25 WARN NativeCodeLoader: Unable to load native-hadoop library for your platform... using builtin-java classes where applicable\n"
     ]
    },
    {
     "name": "stderr",
     "output_type": "stream",
     "text": [
      "Setting default log level to \"WARN\".\n",
      "To adjust logging level use sc.setLogLevel(newLevel). For SparkR, use setLogLevel(newLevel).\n"
     ]
    }
   ],
   "source": [
    "from pyspark.sql import SparkSession\n",
    "from pathling import PathlingContext\n",
    "\n",
    "spark = (\n",
    "    SparkSession.builder.config(\n",
    "        \"spark.jars.packages\",\n",
    "        \"au.csiro.pathling:library-runtime:6.4.2,io.delta:delta-core_2.12:2.4.0\",\n",
    "    )\n",
    "    .config(\"spark.sql.extensions\", \"io.delta.sql.DeltaSparkSessionExtension\")\n",
    "    .config(\n",
    "        \"spark.sql.catalog.spark_catalog\",\n",
    "        \"org.apache.spark.sql.delta.catalog.DeltaCatalog\",\n",
    "    )\n",
    "    .config(\"spark.driver.memory\", \"16g\")\n",
    "    .getOrCreate()\n",
    ")\n",
    "\n",
    "pc = PathlingContext.create(spark)"
   ]
  },
  {
   "cell_type": "code",
   "execution_count": 2,
   "metadata": {},
   "outputs": [],
   "source": [
    "BUNDLES = \"./coherent/fhir\"\n",
    "\n",
    "bundles = pc.spark.read.text(BUNDLES, wholetext=True)\n",
    "patients = pc.encode_bundle(bundles, \"Patient\")"
   ]
  },
  {
   "cell_type": "code",
   "execution_count": 3,
   "metadata": {},
   "outputs": [
    {
     "data": {
      "text/plain": [
       "['id',\n",
       " 'id_versioned',\n",
       " 'meta',\n",
       " 'implicitRules',\n",
       " 'language',\n",
       " 'text',\n",
       " 'identifier',\n",
       " 'active',\n",
       " 'name',\n",
       " 'telecom',\n",
       " 'gender',\n",
       " 'birthDate',\n",
       " 'deceasedBoolean',\n",
       " 'deceasedDateTime',\n",
       " 'address',\n",
       " 'maritalStatus',\n",
       " 'multipleBirthBoolean',\n",
       " 'multipleBirthInteger',\n",
       " 'photo',\n",
       " 'contact',\n",
       " 'communication',\n",
       " 'generalPractitioner',\n",
       " 'managingOrganization',\n",
       " 'link']"
      ]
     },
     "execution_count": 3,
     "metadata": {},
     "output_type": "execute_result"
    }
   ],
   "source": [
    "patients.columns"
   ]
  },
  {
   "cell_type": "code",
   "execution_count": 5,
   "metadata": {},
   "outputs": [
    {
     "name": "stderr",
     "output_type": "stream",
     "text": [
      "[Stage 5:==========================================>                (5 + 2) / 7]\r"
     ]
    },
    {
     "name": "stdout",
     "output_type": "stream",
     "text": [
      "+--------------------+------+----------+\n",
      "|                  id|gender| birthDate|\n",
      "+--------------------+------+----------+\n",
      "|c50ab411-9108-786...|  male|1917-09-03|\n",
      "|7a29631f-5997-eeb...|  male|1928-11-25|\n",
      "|80f28bab-c204-0a9...|  male|1921-04-14|\n",
      "|6aef60d5-4a18-769...|female|1932-10-15|\n",
      "|3107760e-1dce-a17...|  male|1922-11-05|\n",
      "|5f4930e6-7ad2-2dc...|  male|1912-11-26|\n",
      "|20ccec85-c3dc-2a3...|female|1913-02-12|\n",
      "|d7e67087-7e7e-4fe...|  male|1919-02-23|\n",
      "|808e8725-b8b0-d64...|female|1912-07-24|\n",
      "|1332c770-3fff-eb5...|  male|1922-04-16|\n",
      "|7dbd7c44-0f37-cfc...|female|1932-10-17|\n",
      "|fec6d99f-1cfd-f39...|  male|1914-11-27|\n",
      "|546150f3-e660-939...|  male|1921-11-21|\n",
      "|a22d542e-8adc-56a...|female|1912-03-04|\n",
      "|fac767de-2a80-e65...|  male|1918-10-30|\n",
      "|2051c6c3-80bb-39b...|  male|1912-06-24|\n",
      "|edf4f9f5-0027-62d...|female|1918-08-30|\n",
      "|1f6207b1-a9d6-40e...|female|1920-10-26|\n",
      "|50ed200c-bd80-c23...|female|1919-07-17|\n",
      "|32c723fe-76a9-71c...|  male|1930-08-16|\n",
      "+--------------------+------+----------+\n",
      "only showing top 20 rows\n",
      "\n"
     ]
    },
    {
     "name": "stderr",
     "output_type": "stream",
     "text": [
      "                                                                                \r"
     ]
    }
   ],
   "source": [
    "patients.select(\"id\", \"gender\", \"birthDate\").show()"
   ]
  },
  {
   "cell_type": "code",
   "execution_count": 9,
   "metadata": {},
   "outputs": [
    {
     "name": "stderr",
     "output_type": "stream",
     "text": [
      "[Stage 12:=========================================>                (5 + 2) / 7]\r"
     ]
    },
    {
     "name": "stdout",
     "output_type": "stream",
     "text": [
      "+--------------------+\n",
      "|             address|\n",
      "+--------------------+\n",
      "|[{NULL, NULL, NUL...|\n",
      "|[{NULL, NULL, NUL...|\n",
      "|[{NULL, NULL, NUL...|\n",
      "|[{NULL, NULL, NUL...|\n",
      "|[{NULL, NULL, NUL...|\n",
      "|[{NULL, NULL, NUL...|\n",
      "|[{NULL, NULL, NUL...|\n",
      "|[{NULL, NULL, NUL...|\n",
      "|[{NULL, NULL, NUL...|\n",
      "|[{NULL, NULL, NUL...|\n",
      "|[{NULL, NULL, NUL...|\n",
      "|[{NULL, NULL, NUL...|\n",
      "|[{NULL, NULL, NUL...|\n",
      "|[{NULL, NULL, NUL...|\n",
      "|[{NULL, NULL, NUL...|\n",
      "|[{NULL, NULL, NUL...|\n",
      "|[{NULL, NULL, NUL...|\n",
      "|[{NULL, NULL, NUL...|\n",
      "|[{NULL, NULL, NUL...|\n",
      "|[{NULL, NULL, NUL...|\n",
      "+--------------------+\n",
      "only showing top 20 rows\n",
      "\n"
     ]
    },
    {
     "name": "stderr",
     "output_type": "stream",
     "text": [
      "                                                                                \r"
     ]
    }
   ],
   "source": [
    "patients.select(\"address\").show()"
   ]
  }
 ],
 "metadata": {
  "kernelspec": {
   "display_name": "Python 3",
   "language": "python",
   "name": "python3"
  },
  "language_info": {
   "codemirror_mode": {
    "name": "ipython",
    "version": 3
   },
   "file_extension": ".py",
   "mimetype": "text/x-python",
   "name": "python",
   "nbconvert_exporter": "python",
   "pygments_lexer": "ipython3",
   "version": "3.11.9"
  }
 },
 "nbformat": 4,
 "nbformat_minor": 2
}
